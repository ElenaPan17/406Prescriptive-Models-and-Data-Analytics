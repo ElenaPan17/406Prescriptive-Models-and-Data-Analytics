{
 "cells": [
  {
   "cell_type": "markdown",
   "id": "c9d4654f-ba71-4355-b07c-a39682b8bfb8",
   "metadata": {},
   "source": [
    "# Prescriptive Models and Data Analytics Problem Set #1"
   ]
  },
  {
   "cell_type": "markdown",
   "id": "5d5f3d4c-9ff2-435e-83ee-ab0e8284c0ed",
   "metadata": {},
   "source": [
    "## Table 1"
   ]
  },
  {
   "cell_type": "markdown",
   "id": "d946c5cf-ce4e-4d27-ab76-7db7d8b18610",
   "metadata": {},
   "source": [
    "### Question 1\n",
    "\n",
    "**Load the “charitable giving.csv” dataset and run a regression to assess whether the average “Number of months since last donation” is significantly different between treatment and control. Interpret the relevant regression coefficients and compare the regression-based comparison to the group-specific means reported in Table 1 of the paper.**"
   ]
  },
  {
   "cell_type": "code",
   "execution_count": 1,
   "id": "6c0797e9-9a2d-45cd-a275-c56956486f9a",
   "metadata": {
    "tags": []
   },
   "outputs": [],
   "source": [
    "import pandas as pd\n",
    "import matplotlib.pyplot as plt\n",
    "import numpy as np\n",
    "import statsmodels.api as sm\n",
    "import statsmodels.formula.api as smf"
   ]
  },
  {
   "cell_type": "code",
   "execution_count": 2,
   "id": "dce72e69-c56d-4ff8-aa2b-4659df85a778",
   "metadata": {
    "tags": []
   },
   "outputs": [
    {
     "data": {
      "text/html": [
       "<div>\n",
       "<style scoped>\n",
       "    .dataframe tbody tr th:only-of-type {\n",
       "        vertical-align: middle;\n",
       "    }\n",
       "\n",
       "    .dataframe tbody tr th {\n",
       "        vertical-align: top;\n",
       "    }\n",
       "\n",
       "    .dataframe thead th {\n",
       "        text-align: right;\n",
       "    }\n",
       "</style>\n",
       "<table border=\"1\" class=\"dataframe\">\n",
       "  <thead>\n",
       "    <tr style=\"text-align: right;\">\n",
       "      <th></th>\n",
       "      <th>donation_amount</th>\n",
       "      <th>donation_dummy</th>\n",
       "      <th>control</th>\n",
       "      <th>treatment</th>\n",
       "      <th>match_ratio</th>\n",
       "      <th>ratio1</th>\n",
       "      <th>ratio2</th>\n",
       "      <th>ratio3</th>\n",
       "      <th>red_state_dummy</th>\n",
       "      <th>months_since_last_donation</th>\n",
       "      <th>highest_previous_donation</th>\n",
       "      <th>prior_donations_num</th>\n",
       "    </tr>\n",
       "  </thead>\n",
       "  <tbody>\n",
       "    <tr>\n",
       "      <th>0</th>\n",
       "      <td>0.0</td>\n",
       "      <td>0.0</td>\n",
       "      <td>0.0</td>\n",
       "      <td>1.0</td>\n",
       "      <td>1.0</td>\n",
       "      <td>1</td>\n",
       "      <td>0.0</td>\n",
       "      <td>0.0</td>\n",
       "      <td>1.0</td>\n",
       "      <td>19.0</td>\n",
       "      <td>500.0</td>\n",
       "      <td>32.0</td>\n",
       "    </tr>\n",
       "    <tr>\n",
       "      <th>1</th>\n",
       "      <td>0.0</td>\n",
       "      <td>0.0</td>\n",
       "      <td>1.0</td>\n",
       "      <td>0.0</td>\n",
       "      <td>0.0</td>\n",
       "      <td>0</td>\n",
       "      <td>0.0</td>\n",
       "      <td>0.0</td>\n",
       "      <td>1.0</td>\n",
       "      <td>29.0</td>\n",
       "      <td>300.0</td>\n",
       "      <td>22.0</td>\n",
       "    </tr>\n",
       "    <tr>\n",
       "      <th>2</th>\n",
       "      <td>0.0</td>\n",
       "      <td>0.0</td>\n",
       "      <td>1.0</td>\n",
       "      <td>0.0</td>\n",
       "      <td>0.0</td>\n",
       "      <td>0</td>\n",
       "      <td>0.0</td>\n",
       "      <td>0.0</td>\n",
       "      <td>1.0</td>\n",
       "      <td>3.0</td>\n",
       "      <td>500.0</td>\n",
       "      <td>22.0</td>\n",
       "    </tr>\n",
       "    <tr>\n",
       "      <th>3</th>\n",
       "      <td>0.0</td>\n",
       "      <td>0.0</td>\n",
       "      <td>0.0</td>\n",
       "      <td>1.0</td>\n",
       "      <td>3.0</td>\n",
       "      <td>0</td>\n",
       "      <td>0.0</td>\n",
       "      <td>1.0</td>\n",
       "      <td>0.0</td>\n",
       "      <td>4.0</td>\n",
       "      <td>250.0</td>\n",
       "      <td>29.0</td>\n",
       "    </tr>\n",
       "    <tr>\n",
       "      <th>4</th>\n",
       "      <td>0.0</td>\n",
       "      <td>0.0</td>\n",
       "      <td>0.0</td>\n",
       "      <td>1.0</td>\n",
       "      <td>2.0</td>\n",
       "      <td>0</td>\n",
       "      <td>1.0</td>\n",
       "      <td>0.0</td>\n",
       "      <td>0.0</td>\n",
       "      <td>8.0</td>\n",
       "      <td>50.0</td>\n",
       "      <td>17.0</td>\n",
       "    </tr>\n",
       "  </tbody>\n",
       "</table>\n",
       "</div>"
      ],
      "text/plain": [
       "   donation_amount  donation_dummy  control  treatment  match_ratio  ratio1  \\\n",
       "0              0.0             0.0      0.0        1.0          1.0       1   \n",
       "1              0.0             0.0      1.0        0.0          0.0       0   \n",
       "2              0.0             0.0      1.0        0.0          0.0       0   \n",
       "3              0.0             0.0      0.0        1.0          3.0       0   \n",
       "4              0.0             0.0      0.0        1.0          2.0       0   \n",
       "\n",
       "   ratio2  ratio3  red_state_dummy  months_since_last_donation  \\\n",
       "0     0.0     0.0              1.0                        19.0   \n",
       "1     0.0     0.0              1.0                        29.0   \n",
       "2     0.0     0.0              1.0                         3.0   \n",
       "3     0.0     1.0              0.0                         4.0   \n",
       "4     1.0     0.0              0.0                         8.0   \n",
       "\n",
       "   highest_previous_donation  prior_donations_num  \n",
       "0                      500.0                 32.0  \n",
       "1                      300.0                 22.0  \n",
       "2                      500.0                 22.0  \n",
       "3                      250.0                 29.0  \n",
       "4                       50.0                 17.0  "
      ]
     },
     "execution_count": 2,
     "metadata": {},
     "output_type": "execute_result"
    }
   ],
   "source": [
    "df = pd.read_csv('charitable_giving.csv')\n",
    "\n",
    "df.head(5)"
   ]
  },
  {
   "cell_type": "code",
   "execution_count": 3,
   "id": "cbafbb6f-aa67-4667-b542-7fb3fa17a748",
   "metadata": {
    "tags": []
   },
   "outputs": [
    {
     "name": "stdout",
     "output_type": "stream",
     "text": [
      "                                OLS Regression Results                                \n",
      "======================================================================================\n",
      "Dep. Variable:     months_since_last_donation   R-squared:                       0.000\n",
      "Model:                                    OLS   Adj. R-squared:                 -0.000\n",
      "Method:                         Least Squares   F-statistic:                   0.01428\n",
      "Date:                        Fri, 26 Jan 2024   Prob (F-statistic):              0.905\n",
      "Time:                                23:54:13   Log-Likelihood:            -1.9585e+05\n",
      "No. Observations:                       50082   AIC:                         3.917e+05\n",
      "Df Residuals:                           50080   BIC:                         3.917e+05\n",
      "Df Model:                                   1                                         \n",
      "Covariance Type:                    nonrobust                                         \n",
      "==============================================================================\n",
      "                 coef    std err          t      P>|t|      [0.025      0.975]\n",
      "------------------------------------------------------------------------------\n",
      "Intercept     12.9981      0.094    138.979      0.000      12.815      13.181\n",
      "treatment      0.0137      0.115      0.119      0.905      -0.211       0.238\n",
      "==============================================================================\n",
      "Omnibus:                     8031.352   Durbin-Watson:                   1.714\n",
      "Prob(Omnibus):                  0.000   Jarque-Bera (JB):            12471.135\n",
      "Skew:                           1.163   Prob(JB):                         0.00\n",
      "Kurtosis:                       3.751   Cond. No.                         3.23\n",
      "==============================================================================\n",
      "\n",
      "Notes:\n",
      "[1] Standard Errors assume that the covariance matrix of the errors is correctly specified.\n"
     ]
    }
   ],
   "source": [
    "number_month_reg = smf.ols(formula = 'months_since_last_donation ~ treatment', data = df)\n",
    "result = number_month_reg.fit()\n",
    "print(result.summary())"
   ]
  },
  {
   "cell_type": "markdown",
   "id": "16992a2d-dcfc-4f52-92bb-90d1e5022a8d",
   "metadata": {},
   "source": [
    "**Interpretation**: The intercept represents the average number of months since last donation for the control group, which is 12.9981. The treatment coefficient represents the increase in the average number of months in the treatment group relative to the control group, which is 0.0137 but it is not statistically significant.\n"
   ]
  },
  {
   "cell_type": "markdown",
   "id": "a1acfa37-a673-4550-9463-c2911ca5b88d",
   "metadata": {},
   "source": [
    "**Compared to Group-specific Means in Report**: In Table 1, the average number of months since last donation for the control group is 12.998, which is exactly the same as the regression method (=12.998). The average number of months since last donation for the treatment group is 13.012, which is also similiar to the regression model 13.0118 (=12.9981 + 0.0137)."
   ]
  },
  {
   "cell_type": "markdown",
   "id": "557a2d56-602c-43b9-86c4-5c13a79e5c31",
   "metadata": {},
   "source": [
    "### Question 2\n",
    "\n",
    "**Is the difference in “Number of month since last donation” between treatment and control statistically significant (at the usual 95% confidence level)? Is this the result you expected?**"
   ]
  },
  {
   "cell_type": "markdown",
   "id": "9dc9525c-0075-4e84-8141-02a6ae93e42e",
   "metadata": {},
   "source": [
    "The treatment coefficient represents the difference between treatment and control group, which is 0.0137. However, it is not significant at the 95% confidence level as the p_value (0.905) is greater than 0.05. "
   ]
  },
  {
   "cell_type": "markdown",
   "id": "7186e566-7362-407b-b7fa-f54de4f2cc23",
   "metadata": {},
   "source": [
    "Yes, this result is expected. Because the matching grant offers should affect the amount of donation instead of the frequency of the donation. Since individuals are randomly assigned to control and treatment, so the treatment coefficient is insignificant."
   ]
  },
  {
   "cell_type": "markdown",
   "id": "93ea39af-81fb-4eae-bc30-8b7299c5e3f2",
   "metadata": {},
   "source": [
    "### Question 3\n",
    "\n",
    "**More generally, describe the take-away from Table 1 in the paper.**"
   ]
  },
  {
   "cell_type": "markdown",
   "id": "e44b68c5-05eb-405a-9efa-35643979671e",
   "metadata": {},
   "source": [
    "The treatment and control groups are similar in key characteristics (member activity, census demographics, and state-level activity of organization) before the experiment began. This similarity is important because it supports the conclusion that any differences observed in the donating behaviors during the experiment are likely due to the treatment (matching grants) rather than pre-existing differences between the groups. "
   ]
  },
  {
   "cell_type": "markdown",
   "id": "c258796a-f6d5-432e-9b09-54f27d1d5f7a",
   "metadata": {},
   "source": [
    "## Response rate regressions"
   ]
  },
  {
   "cell_type": "markdown",
   "id": "073c9400-9227-444a-ba38-7e5ad96eb06d",
   "metadata": {},
   "source": [
    "### Question 1\n",
    "\n",
    "**Run a linear regression of response rate (the donation dummy) on the treatment dummy (and an intercept). Interpret both coefficients and compare them to the results presented in the first row of Table 2a.**"
   ]
  },
  {
   "cell_type": "code",
   "execution_count": 4,
   "id": "dc823232-d0b3-4bfe-9c00-d3a7d69a70c8",
   "metadata": {
    "tags": []
   },
   "outputs": [
    {
     "name": "stdout",
     "output_type": "stream",
     "text": [
      "                            OLS Regression Results                            \n",
      "==============================================================================\n",
      "Dep. Variable:         donation_dummy   R-squared:                       0.000\n",
      "Model:                            OLS   Adj. R-squared:                  0.000\n",
      "Method:                 Least Squares   F-statistic:                     9.618\n",
      "Date:                Fri, 26 Jan 2024   Prob (F-statistic):            0.00193\n",
      "Time:                        23:54:13   Log-Likelihood:                 26630.\n",
      "No. Observations:               50083   AIC:                        -5.326e+04\n",
      "Df Residuals:                   50081   BIC:                        -5.324e+04\n",
      "Df Model:                           1                                         \n",
      "Covariance Type:            nonrobust                                         \n",
      "==============================================================================\n",
      "                 coef    std err          t      P>|t|      [0.025      0.975]\n",
      "------------------------------------------------------------------------------\n",
      "Intercept      0.0179      0.001     16.225      0.000       0.016       0.020\n",
      "treatment      0.0042      0.001      3.101      0.002       0.002       0.007\n",
      "==============================================================================\n",
      "Omnibus:                    59814.280   Durbin-Watson:                   1.997\n",
      "Prob(Omnibus):                  0.000   Jarque-Bera (JB):          4317152.727\n",
      "Skew:                           6.740   Prob(JB):                         0.00\n",
      "Kurtosis:                      46.440   Cond. No.                         3.23\n",
      "==============================================================================\n",
      "\n",
      "Notes:\n",
      "[1] Standard Errors assume that the covariance matrix of the errors is correctly specified.\n"
     ]
    }
   ],
   "source": [
    "donation_dummy_reg = smf.ols(formula = 'donation_dummy ~ treatment', data = df)\n",
    "result = donation_dummy_reg.fit()\n",
    "print(result.summary())"
   ]
  },
  {
   "cell_type": "markdown",
   "id": "c4327bbb-e6a4-4971-bd73-364b72bb7f62",
   "metadata": {},
   "source": [
    "**Interpretation**: It has a positive and highly significant effect in this regression. This is a linear probability model (0-1 Y-variable), therefore the intercept represents the donation probability in the control group, which is 1.79%. The treatment coefficient represents the increase in donation probability in the treatment group relative to the control group, which is 0.42% and is statistically significant. \n",
    "\n",
    "In Table 2a, it is noted that the control group has a response rate of 1.8%, while the treatment group exhibits a slightly higher rate of 2.2%. This aligns with the regression results, where the response rate for the control group is 1.79% and for the treatment group is 2.21%, indicating an increase of 0.42%."
   ]
  },
  {
   "cell_type": "markdown",
   "id": "c9b63257-feee-4663-97bb-f2e409cbd833",
   "metadata": {},
   "source": [
    "### Question 2\n",
    "\n",
    "**Run a regression on three dummies for match ratio treatment (1:1, 2:1, and 3:1 and an intercept). Interpret all four regression coefficients.**"
   ]
  },
  {
   "cell_type": "code",
   "execution_count": 5,
   "id": "1d074c76-dee2-445d-a6f8-418f9e56759e",
   "metadata": {
    "tags": []
   },
   "outputs": [
    {
     "name": "stdout",
     "output_type": "stream",
     "text": [
      "                            OLS Regression Results                            \n",
      "==============================================================================\n",
      "Dep. Variable:         donation_dummy   R-squared:                       0.000\n",
      "Model:                            OLS   Adj. R-squared:                  0.000\n",
      "Method:                 Least Squares   F-statistic:                     3.665\n",
      "Date:                Fri, 26 Jan 2024   Prob (F-statistic):             0.0118\n",
      "Time:                        23:54:13   Log-Likelihood:                 26630.\n",
      "No. Observations:               50083   AIC:                        -5.325e+04\n",
      "Df Residuals:                   50079   BIC:                        -5.322e+04\n",
      "Df Model:                           3                                         \n",
      "Covariance Type:            nonrobust                                         \n",
      "==============================================================================\n",
      "                 coef    std err          t      P>|t|      [0.025      0.975]\n",
      "------------------------------------------------------------------------------\n",
      "Intercept      0.0179      0.001     16.225      0.000       0.016       0.020\n",
      "ratio1         0.0029      0.002      1.661      0.097      -0.001       0.006\n",
      "ratio2         0.0048      0.002      2.744      0.006       0.001       0.008\n",
      "ratio3         0.0049      0.002      2.802      0.005       0.001       0.008\n",
      "==============================================================================\n",
      "Omnibus:                    59812.754   Durbin-Watson:                   1.997\n",
      "Prob(Omnibus):                  0.000   Jarque-Bera (JB):          4316693.217\n",
      "Skew:                           6.740   Prob(JB):                         0.00\n",
      "Kurtosis:                      46.438   Cond. No.                         4.26\n",
      "==============================================================================\n",
      "\n",
      "Notes:\n",
      "[1] Standard Errors assume that the covariance matrix of the errors is correctly specified.\n"
     ]
    }
   ],
   "source": [
    "donation_dummy_3_reg = smf.ols(formula = 'donation_dummy ~ ratio1 + ratio2 + ratio3', data = df)\n",
    "result = donation_dummy_3_reg.fit()\n",
    "print(result.summary())"
   ]
  },
  {
   "cell_type": "markdown",
   "id": "5bd62b2f-ce5e-41cd-9f44-0858589cd146",
   "metadata": {},
   "source": [
    "**Interpretation**: the intercept represents the donation probability in the control group, which is still 1.79%. \n",
    "\n",
    "The ratio1 coefficient represents the increase in donation probability in the 1:1 match ratio treatment group relative to the control group, which is 0.29% and is statistically insignificant at 95% confidence level.\n",
    "\n",
    "The ratio2 coefficient represents the increase in donation probability in the 2:1 match ratio treatment group relative to the control group, which is 0.48% and is statistically significant at 95% confidence level.\n",
    "\n",
    "The ratio3 coefficient represents the increase in donation probability in the 3:1 match ratio treatment group relative to the control group, which is 0.49% and is statistically significant at 95% confidence level."
   ]
  },
  {
   "cell_type": "markdown",
   "id": "08f1600e-cdc1-4f69-8aec-02f819a9d15b",
   "metadata": {},
   "source": [
    "### Question 3\n",
    "\n",
    "**Calculate the response rate difference between the 1:1 and 2:1 match ratios.**"
   ]
  },
  {
   "cell_type": "code",
   "execution_count": 6,
   "id": "dbae7f15-91f6-4001-a2e7-df601b1743d0",
   "metadata": {
    "tags": []
   },
   "outputs": [
    {
     "data": {
      "text/plain": [
       "0.0018999999999999998"
      ]
     },
     "execution_count": 6,
     "metadata": {},
     "output_type": "execute_result"
    }
   ],
   "source": [
    "0.0048 - 0.0029"
   ]
  },
  {
   "cell_type": "markdown",
   "id": "a62b6dc1-c991-41da-ba74-48cd4cae1fe6",
   "metadata": {},
   "source": [
    "The difference between the 1:11 and 2:1 match ratios is 0.19%"
   ]
  },
  {
   "cell_type": "markdown",
   "id": "b3f37b8e-9655-4566-8f0c-de74486a5f64",
   "metadata": {},
   "source": [
    "### Question 4\n",
    "\n",
    "**Based on the regressions you just ran and more generally the results in Table 2a, what do you\n",
    "conclude regarding the effectiveness of using matched donations?**"
   ]
  },
  {
   "cell_type": "markdown",
   "id": "4a913d27-e7f2-40e0-8971-c3dab30e680d",
   "metadata": {},
   "source": [
    "Based on the regression result and the results in Table 2a, all three match ratios have a positive effect on the donation probability compared to the control group (noticing ratio1 is insignificant). However, the differences between the three match ratios (0.29%, 0.48%, and 0.49%) are minimal, indicating that higher match ratios only slightly increase the donation rate. "
   ]
  },
  {
   "cell_type": "markdown",
   "id": "2798082b-e21e-4760-9835-6fcf0f8a9806",
   "metadata": {},
   "source": [
    "## Response rates in red/blue states"
   ]
  },
  {
   "cell_type": "markdown",
   "id": "390526ba-8c18-40f0-bffe-9649a9a275e0",
   "metadata": {},
   "source": [
    "### Question 1\n",
    "\n",
    "**Repeat the regression of response rate on treatment and an intercept (do not include separate match ratio dummies). But this time, base the regression only on respondents in blue states or red states. I.e. run two regressions, one on each of the two sub-samples of data. Interpret the coefficients in both regressions. Is the treatment more effective in red or blue states?**"
   ]
  },
  {
   "cell_type": "code",
   "execution_count": 7,
   "id": "762093f1-cb76-427e-ae3f-b4ca4c5ba9bc",
   "metadata": {
    "tags": []
   },
   "outputs": [
    {
     "name": "stdout",
     "output_type": "stream",
     "text": [
      "                            OLS Regression Results                            \n",
      "==============================================================================\n",
      "Dep. Variable:         donation_dummy   R-squared:                       0.001\n",
      "Model:                            OLS   Adj. R-squared:                  0.001\n",
      "Method:                 Least Squares   F-statistic:                     17.24\n",
      "Date:                Fri, 26 Jan 2024   Prob (F-statistic):           3.31e-05\n",
      "Time:                        23:54:13   Log-Likelihood:                 10839.\n",
      "No. Observations:               20242   AIC:                        -2.167e+04\n",
      "Df Residuals:                   20240   BIC:                        -2.166e+04\n",
      "Df Model:                           1                                         \n",
      "Covariance Type:            nonrobust                                         \n",
      "==============================================================================\n",
      "                 coef    std err          t      P>|t|      [0.025      0.975]\n",
      "------------------------------------------------------------------------------\n",
      "Intercept      0.0146      0.002      8.398      0.000       0.011       0.018\n",
      "treatment      0.0088      0.002      4.152      0.000       0.005       0.013\n",
      "==============================================================================\n",
      "Omnibus:                    24251.343   Durbin-Watson:                   2.002\n",
      "Prob(Omnibus):                  0.000   Jarque-Bera (JB):          1766349.071\n",
      "Skew:                           6.759   Prob(JB):                         0.00\n",
      "Kurtosis:                      46.721   Cond. No.                         3.25\n",
      "==============================================================================\n",
      "\n",
      "Notes:\n",
      "[1] Standard Errors assume that the covariance matrix of the errors is correctly specified.\n"
     ]
    }
   ],
   "source": [
    "donation_dummy_red_reg = smf.ols(formula = 'donation_dummy ~ treatment', data = df[df['red_state_dummy'] == 1])\n",
    "result = donation_dummy_red_reg.fit()\n",
    "print(result.summary())"
   ]
  },
  {
   "cell_type": "markdown",
   "id": "c0c98d92-20b5-4afd-9650-7725ad4d7727",
   "metadata": {},
   "source": [
    "**Interpretation**: the intercept represents the donation probability in the red states in the control group, which is 1.46%. \n",
    "\n",
    "The treatment coefficient represents the increase in donation probability in the red states relative to the control group, which is 0.88% and is statistically significant at 95% confidence level."
   ]
  },
  {
   "cell_type": "code",
   "execution_count": 8,
   "id": "e740c347-ce73-414f-a630-6fef635cac0a",
   "metadata": {
    "tags": []
   },
   "outputs": [
    {
     "name": "stdout",
     "output_type": "stream",
     "text": [
      "                            OLS Regression Results                            \n",
      "==============================================================================\n",
      "Dep. Variable:         donation_dummy   R-squared:                       0.000\n",
      "Model:                            OLS   Adj. R-squared:                 -0.000\n",
      "Method:                 Least Squares   F-statistic:                    0.3567\n",
      "Date:                Fri, 26 Jan 2024   Prob (F-statistic):              0.550\n",
      "Time:                        23:54:13   Log-Likelihood:                 15783.\n",
      "No. Observations:               29806   AIC:                        -3.156e+04\n",
      "Df Residuals:                   29804   BIC:                        -3.155e+04\n",
      "Df Model:                           1                                         \n",
      "Covariance Type:            nonrobust                                         \n",
      "==============================================================================\n",
      "                 coef    std err          t      P>|t|      [0.025      0.975]\n",
      "------------------------------------------------------------------------------\n",
      "Intercept      0.0200      0.001     14.085      0.000       0.017       0.023\n",
      "treatment      0.0010      0.002      0.597      0.550      -0.002       0.004\n",
      "==============================================================================\n",
      "Omnibus:                    35568.600   Durbin-Watson:                   1.996\n",
      "Prob(Omnibus):                  0.000   Jarque-Bera (JB):          2547856.644\n",
      "Skew:                           6.727   Prob(JB):                         0.00\n",
      "Kurtosis:                      46.250   Cond. No.                         3.21\n",
      "==============================================================================\n",
      "\n",
      "Notes:\n",
      "[1] Standard Errors assume that the covariance matrix of the errors is correctly specified.\n"
     ]
    }
   ],
   "source": [
    "donation_dummy_blue_reg = smf.ols(formula = 'donation_dummy ~ treatment', data = df[df['red_state_dummy'] == 0])\n",
    "result = donation_dummy_blue_reg.fit()\n",
    "print(result.summary())"
   ]
  },
  {
   "cell_type": "markdown",
   "id": "3a23351c-f48b-4d18-b6b0-d617f4eb6688",
   "metadata": {},
   "source": [
    "**Interpretation**: the intercept represents the donation probability in the blue states in the control group, which is 2%. \n",
    "\n",
    "The treatment coefficient represents the increase in donation probability in the blue states relative to the control group, which is 0.1% and is statistically insignificant at 95% confidence level."
   ]
  },
  {
   "cell_type": "markdown",
   "id": "1bdad54d-fe31-4842-9d44-ad7960b695a9",
   "metadata": {},
   "source": [
    "By comparing treatment coefficient (0.1%) from the blue states to the treatment coefficient (0.88%) from the red states, the treatment is more effective in red states."
   ]
  },
  {
   "cell_type": "markdown",
   "id": "4cbaed8b-4c9f-4f5a-aa56-4141f7999856",
   "metadata": {},
   "source": [
    "### Question 2\n",
    "\n",
    "**States are of course not randomly assigned. Does the treatment coefficient have a causal interpretation in each of the two regressions? Does the difference in the treatment effect between states have a causal interpretation?**"
   ]
  },
  {
   "cell_type": "markdown",
   "id": "3a0b31dc-05af-45dd-a0aa-9722788424b2",
   "metadata": {},
   "source": [
    "In the red state regression, the p-value of the treatment coefficient is 0, which is smaller than 0.05, indicating statistical significance. This suggests a correlation, but the study needs to implement randomization and control for other confounding variables to establish a causal interpretation.\n",
    "\n",
    "In the blue state regression, the p-value of the treatment coefficient is 0.550, which is greater than 0.05, indicating statistical insignificance. Therefore, it does not necessarily imply a causal interpretation."
   ]
  },
  {
   "cell_type": "markdown",
   "id": "4c949bf8-372a-425f-b9f5-e7a5de177efe",
   "metadata": {},
   "source": [
    "Difference in treatment coefficient between states does not have a causal interpretation. Since states are not randomly assigned, there could be many unobserved factors that systematically differ between red and blue states and influence the likelihood of donating probability."
   ]
  },
  {
   "cell_type": "markdown",
   "id": "7978c851-6bfa-495e-82a6-09f0263792b5",
   "metadata": {},
   "source": [
    "## Response rates and donation amount"
   ]
  },
  {
   "cell_type": "markdown",
   "id": "b53b6299-68af-44c8-8feb-100378bfd8cd",
   "metadata": {},
   "source": [
    "### Question 1\n",
    "\n",
    "**Run a regression of dollars given on a treatment dummy and an intercept. Interpret the regression coefficients. Does the treatment coefficient have a causal interpretation?**"
   ]
  },
  {
   "cell_type": "code",
   "execution_count": 9,
   "id": "f1459c7a-f84a-414f-b3c2-ba1995196cbb",
   "metadata": {
    "tags": []
   },
   "outputs": [
    {
     "name": "stdout",
     "output_type": "stream",
     "text": [
      "                            OLS Regression Results                            \n",
      "==============================================================================\n",
      "Dep. Variable:        donation_amount   R-squared:                       0.000\n",
      "Model:                            OLS   Adj. R-squared:                  0.000\n",
      "Method:                 Least Squares   F-statistic:                     3.461\n",
      "Date:                Fri, 26 Jan 2024   Prob (F-statistic):             0.0628\n",
      "Time:                        23:54:13   Log-Likelihood:            -1.7946e+05\n",
      "No. Observations:               50083   AIC:                         3.589e+05\n",
      "Df Residuals:                   50081   BIC:                         3.589e+05\n",
      "Df Model:                           1                                         \n",
      "Covariance Type:            nonrobust                                         \n",
      "==============================================================================\n",
      "                 coef    std err          t      P>|t|      [0.025      0.975]\n",
      "------------------------------------------------------------------------------\n",
      "Intercept      0.8133      0.067     12.063      0.000       0.681       0.945\n",
      "treatment      0.1536      0.083      1.861      0.063      -0.008       0.315\n",
      "==============================================================================\n",
      "Omnibus:                    96861.113   Durbin-Watson:                   1.987\n",
      "Prob(Omnibus):                  0.000   Jarque-Bera (JB):        240735713.630\n",
      "Skew:                          15.297   Prob(JB):                         0.00\n",
      "Kurtosis:                     341.269   Cond. No.                         3.23\n",
      "==============================================================================\n",
      "\n",
      "Notes:\n",
      "[1] Standard Errors assume that the covariance matrix of the errors is correctly specified.\n"
     ]
    }
   ],
   "source": [
    "dollar_reg = smf.ols(formula = 'donation_amount ~ treatment', data = df)\n",
    "result = dollar_reg.fit()\n",
    "print(result.summary())"
   ]
  },
  {
   "cell_type": "markdown",
   "id": "9de71687-6223-44f6-bb94-5813c93cfa1c",
   "metadata": {},
   "source": [
    "**Interpretation**: the intercept represents the average dollars given for the control group, which is 0.8133. \n",
    "\n",
    "The treatment coefficient represents the increase in the average dollars given in the treatment group relative to the control group, which is 0.1536 and is statistically insignificant at 95% confidence level. "
   ]
  },
  {
   "cell_type": "markdown",
   "id": "8b255807-951b-4f31-b297-ff956f6a7160",
   "metadata": {},
   "source": [
    "Because the treatment coefficient is insignificant, so I cannot conclude that the treatment coefficient has a casual relationship. "
   ]
  },
  {
   "cell_type": "markdown",
   "id": "995dbe22-f1a0-4ecd-8b1d-a9109b3a24ea",
   "metadata": {},
   "source": [
    "### Question 2\n",
    "\n",
    "**Next, regress dollars given on a treatment dummy and an intercept, but base the regression only on respondents that made a donation (i.e. donation dummy is equal to 1). This regression allows you to analyze how much respondents donate conditional on donating some positive amount. Interpret the regression coefficients. Does the treatment coefficient have a causal interpretation?**"
   ]
  },
  {
   "cell_type": "code",
   "execution_count": 10,
   "id": "5e14b0b2-cf44-4eb6-b168-99a068df5dfb",
   "metadata": {
    "tags": []
   },
   "outputs": [
    {
     "name": "stdout",
     "output_type": "stream",
     "text": [
      "                            OLS Regression Results                            \n",
      "==============================================================================\n",
      "Dep. Variable:        donation_amount   R-squared:                       0.000\n",
      "Model:                            OLS   Adj. R-squared:                 -0.001\n",
      "Method:                 Least Squares   F-statistic:                    0.3374\n",
      "Date:                Fri, 26 Jan 2024   Prob (F-statistic):              0.561\n",
      "Time:                        23:54:13   Log-Likelihood:                -5326.8\n",
      "No. Observations:                1034   AIC:                         1.066e+04\n",
      "Df Residuals:                    1032   BIC:                         1.067e+04\n",
      "Df Model:                           1                                         \n",
      "Covariance Type:            nonrobust                                         \n",
      "==============================================================================\n",
      "                 coef    std err          t      P>|t|      [0.025      0.975]\n",
      "------------------------------------------------------------------------------\n",
      "Intercept     45.5403      2.423     18.792      0.000      40.785      50.296\n",
      "treatment     -1.6684      2.872     -0.581      0.561      -7.305       3.968\n",
      "==============================================================================\n",
      "Omnibus:                      587.258   Durbin-Watson:                   1.838\n",
      "Prob(Omnibus):                  0.000   Jarque-Bera (JB):             5623.279\n",
      "Skew:                           2.464   Prob(JB):                         0.00\n",
      "Kurtosis:                      13.307   Cond. No.                         3.49\n",
      "==============================================================================\n",
      "\n",
      "Notes:\n",
      "[1] Standard Errors assume that the covariance matrix of the errors is correctly specified.\n"
     ]
    }
   ],
   "source": [
    "dollar_reg = smf.ols(formula = 'donation_amount ~ treatment', data = df[df['donation_dummy'] == 1])\n",
    "result = dollar_reg.fit()\n",
    "print(result.summary())"
   ]
  },
  {
   "cell_type": "markdown",
   "id": "1dc4b284-e019-48ea-a8d9-a484f4ae57b1",
   "metadata": {},
   "source": [
    "**Interpretation**: the intercept represents the average dollars given for the control group, which is 45.5403, conditional on donating a positive amount. \n",
    "\n",
    "The treatment coefficient represents the decrease in the average dollars given in the treatment group relative to the control group conditional on donating a positive amount, which is 1.6684 and is statistically insignificant at 95% confidence level. "
   ]
  },
  {
   "cell_type": "markdown",
   "id": "19f64241-65f8-4557-8d02-81fa6a2215bc",
   "metadata": {},
   "source": [
    "Because the treatment coefficient is insignificant, so I cannot conclude that the treatment coefficient has a casual relationship. "
   ]
  },
  {
   "cell_type": "code",
   "execution_count": null,
   "id": "7f5e1a35-fcaa-404f-b647-b6cd9736fe73",
   "metadata": {},
   "outputs": [],
   "source": []
  }
 ],
 "metadata": {
  "kernelspec": {
   "display_name": "Python 3 (ipykernel)",
   "language": "python",
   "name": "python3"
  },
  "language_info": {
   "codemirror_mode": {
    "name": "ipython",
    "version": 3
   },
   "file_extension": ".py",
   "mimetype": "text/x-python",
   "name": "python",
   "nbconvert_exporter": "python",
   "pygments_lexer": "ipython3",
   "version": "3.10.12"
  }
 },
 "nbformat": 4,
 "nbformat_minor": 5
}
