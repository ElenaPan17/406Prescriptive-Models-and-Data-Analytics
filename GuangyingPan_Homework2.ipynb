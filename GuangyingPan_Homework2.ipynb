{
 "cells": [
  {
   "cell_type": "markdown",
   "id": "bbc74ad7-c067-4667-a83d-92a6a3b96464",
   "metadata": {},
   "source": [
    "# Prescriptive Models and Data Analytics Problem Set #2\n"
   ]
  },
  {
   "cell_type": "markdown",
   "id": "9849443c-ed95-424a-91c7-09d23a487fce",
   "metadata": {},
   "source": [
    "## Hospital admission & quality of service\n",
    "\n",
    "**Download health data.csv and load it into python. These are data from hospital admissions for coronary artery bypass graft (CABG) in the UK. Among other things, you observe whether the patient died after the surgery (coded up as patient died dummy), which hospital the patient visited (hospital id), and a series of patient characteristics such as gender and age.**"
   ]
  },
  {
   "cell_type": "code",
   "execution_count": 1,
   "id": "91043414-7a68-4ca5-8272-0495f7eaac74",
   "metadata": {
    "tags": []
   },
   "outputs": [],
   "source": [
    "import pandas as pd\n",
    "import statsmodels.formula.api as smf"
   ]
  },
  {
   "cell_type": "code",
   "execution_count": 2,
   "id": "2206a66b-1a87-4141-bfd9-f47653d16a0b",
   "metadata": {
    "tags": []
   },
   "outputs": [
    {
     "data": {
      "text/html": [
       "<div>\n",
       "<style scoped>\n",
       "    .dataframe tbody tr th:only-of-type {\n",
       "        vertical-align: middle;\n",
       "    }\n",
       "\n",
       "    .dataframe tbody tr th {\n",
       "        vertical-align: top;\n",
       "    }\n",
       "\n",
       "    .dataframe thead th {\n",
       "        text-align: right;\n",
       "    }\n",
       "</style>\n",
       "<table border=\"1\" class=\"dataframe\">\n",
       "  <thead>\n",
       "    <tr style=\"text-align: right;\">\n",
       "      <th></th>\n",
       "      <th>patient_id</th>\n",
       "      <th>hospital_id</th>\n",
       "      <th>admin_year</th>\n",
       "      <th>patient_died_dummy</th>\n",
       "      <th>startage</th>\n",
       "      <th>female_dummy</th>\n",
       "    </tr>\n",
       "  </thead>\n",
       "  <tbody>\n",
       "    <tr>\n",
       "      <th>0</th>\n",
       "      <td>1</td>\n",
       "      <td>D</td>\n",
       "      <td>2003</td>\n",
       "      <td>0</td>\n",
       "      <td>81</td>\n",
       "      <td>0</td>\n",
       "    </tr>\n",
       "    <tr>\n",
       "      <th>1</th>\n",
       "      <td>2</td>\n",
       "      <td>H</td>\n",
       "      <td>2003</td>\n",
       "      <td>1</td>\n",
       "      <td>67</td>\n",
       "      <td>0</td>\n",
       "    </tr>\n",
       "    <tr>\n",
       "      <th>2</th>\n",
       "      <td>3</td>\n",
       "      <td>A</td>\n",
       "      <td>2003</td>\n",
       "      <td>0</td>\n",
       "      <td>54</td>\n",
       "      <td>0</td>\n",
       "    </tr>\n",
       "    <tr>\n",
       "      <th>3</th>\n",
       "      <td>4</td>\n",
       "      <td>E</td>\n",
       "      <td>2003</td>\n",
       "      <td>0</td>\n",
       "      <td>81</td>\n",
       "      <td>0</td>\n",
       "    </tr>\n",
       "    <tr>\n",
       "      <th>4</th>\n",
       "      <td>5</td>\n",
       "      <td>H</td>\n",
       "      <td>2003</td>\n",
       "      <td>0</td>\n",
       "      <td>69</td>\n",
       "      <td>0</td>\n",
       "    </tr>\n",
       "  </tbody>\n",
       "</table>\n",
       "</div>"
      ],
      "text/plain": [
       "   patient_id hospital_id  admin_year  patient_died_dummy  startage  \\\n",
       "0           1           D        2003                   0        81   \n",
       "1           2           H        2003                   1        67   \n",
       "2           3           A        2003                   0        54   \n",
       "3           4           E        2003                   0        81   \n",
       "4           5           H        2003                   0        69   \n",
       "\n",
       "   female_dummy  \n",
       "0             0  \n",
       "1             0  \n",
       "2             0  \n",
       "3             0  \n",
       "4             0  "
      ]
     },
     "execution_count": 2,
     "metadata": {},
     "output_type": "execute_result"
    }
   ],
   "source": [
    "health = pd.read_csv('health_data.csv')\n",
    "\n",
    "health.head()"
   ]
  },
  {
   "cell_type": "markdown",
   "id": "7bc6afdd-62d2-4c10-8c61-7af73fa49fb0",
   "metadata": {},
   "source": [
    "### Question 1. Start by regressing the patient-died dummy variable on a set of hospital dummies"
   ]
  },
  {
   "cell_type": "code",
   "execution_count": 3,
   "id": "e087a9e0-300f-4193-ac48-b2da81cfcf2b",
   "metadata": {
    "tags": []
   },
   "outputs": [
    {
     "name": "stdout",
     "output_type": "stream",
     "text": [
      "                            OLS Regression Results                            \n",
      "==============================================================================\n",
      "Dep. Variable:     patient_died_dummy   R-squared:                       0.042\n",
      "Model:                            OLS   Adj. R-squared:                  0.042\n",
      "Method:                 Least Squares   F-statistic:                     119.3\n",
      "Date:                Sat, 10 Feb 2024   Prob (F-statistic):          1.75e-220\n",
      "Time:                        23:48:59   Log-Likelihood:                -7416.5\n",
      "No. Observations:               24480   AIC:                         1.485e+04\n",
      "Df Residuals:                   24470   BIC:                         1.493e+04\n",
      "Df Model:                           9                                         \n",
      "Covariance Type:            nonrobust                                         \n",
      "=======================================================================================\n",
      "                          coef    std err          t      P>|t|      [0.025      0.975]\n",
      "---------------------------------------------------------------------------------------\n",
      "Intercept               0.0970      0.006     16.355      0.000       0.085       0.109\n",
      "C(hospital_id)[T.B]     0.0072      0.008      0.890      0.373      -0.009       0.023\n",
      "C(hospital_id)[T.C]    -0.0483      0.010     -4.776      0.000      -0.068      -0.028\n",
      "C(hospital_id)[T.D]     0.1882      0.008     23.188      0.000       0.172       0.204\n",
      "C(hospital_id)[T.E]    -0.0531      0.011     -4.771      0.000      -0.075      -0.031\n",
      "C(hospital_id)[T.F]     0.0003      0.009      0.030      0.976      -0.017       0.017\n",
      "C(hospital_id)[T.G]     0.0441      0.008      5.273      0.000       0.028       0.061\n",
      "C(hospital_id)[T.H]     0.0038      0.009      0.414      0.679      -0.014       0.022\n",
      "C(hospital_id)[T.I]     0.0318      0.009      3.480      0.001       0.014       0.050\n",
      "C(hospital_id)[T.J]     0.0112      0.011      1.028      0.304      -0.010       0.032\n",
      "==============================================================================\n",
      "Omnibus:                     9228.833   Durbin-Watson:                   2.025\n",
      "Prob(Omnibus):                  0.000   Jarque-Bera (JB):            25954.225\n",
      "Skew:                           2.096   Prob(JB):                         0.00\n",
      "Kurtosis:                       5.807   Cond. No.                         10.0\n",
      "==============================================================================\n",
      "\n",
      "Notes:\n",
      "[1] Standard Errors assume that the covariance matrix of the errors is correctly specified.\n"
     ]
    }
   ],
   "source": [
    "reg_hospital  = smf.ols(formula = 'patient_died_dummy ~ C(hospital_id)', data = health)\n",
    "result = reg_hospital.fit()\n",
    "print(result.summary())"
   ]
  },
  {
   "cell_type": "markdown",
   "id": "9421dac3-4284-46be-bcc7-6c740e8daf26",
   "metadata": {},
   "source": [
    "**(a) Based on the regression output, interpret the coefficients on the constant term and the dummy for hospital D**"
   ]
  },
  {
   "cell_type": "markdown",
   "id": "661e5133-4b11-42fa-aec8-8dfbbcdc5790",
   "metadata": {},
   "source": [
    "Constant term (0.097): the average predicted mortality rate when the dummy variables for hospitals B through J are set to zero, which indicates that the mortality rate for hospital A is 9.7%.\n",
    "\n",
    "Dummy for Hospital D (0.1882): the difference in the average predicted mortality rate between Hopsital D and A. In this case, it indicates that Hospital D has a 18.82% higher mortality rate than Hospital A."
   ]
  },
  {
   "cell_type": "markdown",
   "id": "f877a6ed-0810-4ffc-b5fc-b8d08f9ba589",
   "metadata": {},
   "source": [
    "**(b) What is the difference between the mortality rates at hospitals D and E (use the regression output to derive this)?**"
   ]
  },
  {
   "cell_type": "markdown",
   "id": "ac346295-54ee-4499-9e9a-2e0e62c643ed",
   "metadata": {},
   "source": [
    "The difference between the mortality rates at Hospital D and E is 0.2413 (=coef(D) - coef(E))."
   ]
  },
  {
   "cell_type": "markdown",
   "id": "cf5f2193-13cd-44d0-8506-18b024f0358d",
   "metadata": {},
   "source": [
    "### Question 2. Continue to use the hospital data in this question, but only use data for patients that visited either hospital A or B. Regress mortality on an intercept and a dummy for whether the patient visited hospital B."
   ]
  },
  {
   "cell_type": "code",
   "execution_count": 4,
   "id": "cdaaa7cc-4415-4bb6-b2c8-f364191a9584",
   "metadata": {
    "tags": []
   },
   "outputs": [
    {
     "data": {
      "text/html": [
       "<div>\n",
       "<style scoped>\n",
       "    .dataframe tbody tr th:only-of-type {\n",
       "        vertical-align: middle;\n",
       "    }\n",
       "\n",
       "    .dataframe tbody tr th {\n",
       "        vertical-align: top;\n",
       "    }\n",
       "\n",
       "    .dataframe thead th {\n",
       "        text-align: right;\n",
       "    }\n",
       "</style>\n",
       "<table border=\"1\" class=\"dataframe\">\n",
       "  <thead>\n",
       "    <tr style=\"text-align: right;\">\n",
       "      <th></th>\n",
       "      <th>patient_id</th>\n",
       "      <th>hospital_id</th>\n",
       "      <th>admin_year</th>\n",
       "      <th>patient_died_dummy</th>\n",
       "      <th>startage</th>\n",
       "      <th>female_dummy</th>\n",
       "    </tr>\n",
       "  </thead>\n",
       "  <tbody>\n",
       "    <tr>\n",
       "      <th>2</th>\n",
       "      <td>3</td>\n",
       "      <td>A</td>\n",
       "      <td>2003</td>\n",
       "      <td>0</td>\n",
       "      <td>54</td>\n",
       "      <td>0</td>\n",
       "    </tr>\n",
       "    <tr>\n",
       "      <th>6</th>\n",
       "      <td>7</td>\n",
       "      <td>A</td>\n",
       "      <td>2003</td>\n",
       "      <td>0</td>\n",
       "      <td>59</td>\n",
       "      <td>0</td>\n",
       "    </tr>\n",
       "    <tr>\n",
       "      <th>12</th>\n",
       "      <td>13</td>\n",
       "      <td>B</td>\n",
       "      <td>2003</td>\n",
       "      <td>0</td>\n",
       "      <td>65</td>\n",
       "      <td>0</td>\n",
       "    </tr>\n",
       "    <tr>\n",
       "      <th>15</th>\n",
       "      <td>16</td>\n",
       "      <td>A</td>\n",
       "      <td>2003</td>\n",
       "      <td>0</td>\n",
       "      <td>61</td>\n",
       "      <td>0</td>\n",
       "    </tr>\n",
       "    <tr>\n",
       "      <th>19</th>\n",
       "      <td>20</td>\n",
       "      <td>A</td>\n",
       "      <td>2003</td>\n",
       "      <td>0</td>\n",
       "      <td>71</td>\n",
       "      <td>0</td>\n",
       "    </tr>\n",
       "  </tbody>\n",
       "</table>\n",
       "</div>"
      ],
      "text/plain": [
       "    patient_id hospital_id  admin_year  patient_died_dummy  startage  \\\n",
       "2            3           A        2003                   0        54   \n",
       "6            7           A        2003                   0        59   \n",
       "12          13           B        2003                   0        65   \n",
       "15          16           A        2003                   0        61   \n",
       "19          20           A        2003                   0        71   \n",
       "\n",
       "    female_dummy  \n",
       "2              0  \n",
       "6              0  \n",
       "12             0  \n",
       "15             0  \n",
       "19             0  "
      ]
     },
     "execution_count": 4,
     "metadata": {},
     "output_type": "execute_result"
    }
   ],
   "source": [
    "health_update = health.loc[health['hospital_id'].isin(['A','B'])] \n",
    "\n",
    "health_update.head()"
   ]
  },
  {
   "cell_type": "code",
   "execution_count": 5,
   "id": "f6efd09e-5755-446f-a758-bf82a08363d9",
   "metadata": {
    "tags": []
   },
   "outputs": [
    {
     "name": "stdout",
     "output_type": "stream",
     "text": [
      "                            OLS Regression Results                            \n",
      "==============================================================================\n",
      "Dep. Variable:     patient_died_dummy   R-squared:                       0.000\n",
      "Model:                            OLS   Adj. R-squared:                 -0.000\n",
      "Method:                 Least Squares   F-statistic:                    0.9377\n",
      "Date:                Sat, 10 Feb 2024   Prob (F-statistic):              0.333\n",
      "Time:                        23:48:59   Log-Likelihood:                -1446.8\n",
      "No. Observations:                6611   AIC:                             2898.\n",
      "Df Residuals:                    6609   BIC:                             2911.\n",
      "Df Model:                           1                                         \n",
      "Covariance Type:            nonrobust                                         \n",
      "=======================================================================================\n",
      "                          coef    std err          t      P>|t|      [0.025      0.975]\n",
      "---------------------------------------------------------------------------------------\n",
      "Intercept               0.0970      0.005     17.791      0.000       0.086       0.108\n",
      "C(hospital_id)[T.B]     0.0072      0.007      0.968      0.333      -0.007       0.022\n",
      "==============================================================================\n",
      "Omnibus:                     3377.258   Durbin-Watson:                   2.031\n",
      "Prob(Omnibus):                  0.000   Jarque-Bera (JB):            14683.814\n",
      "Skew:                           2.650   Prob(JB):                         0.00\n",
      "Kurtosis:                       8.022   Cond. No.                         2.72\n",
      "==============================================================================\n",
      "\n",
      "Notes:\n",
      "[1] Standard Errors assume that the covariance matrix of the errors is correctly specified.\n"
     ]
    }
   ],
   "source": [
    "reg_hospital_two  = smf.ols(formula = 'patient_died_dummy ~ C(hospital_id)', data = health_update)\n",
    "result = reg_hospital_two.fit()\n",
    "print(result.summary())"
   ]
  },
  {
   "cell_type": "markdown",
   "id": "113832a7-6780-45ba-8669-5fccdbfa4c8b",
   "metadata": {},
   "source": [
    "**(a) Explain why the difference in mortality rate implied by this regression cannot be interpreted as the causal effect of visiting a different hospital (i.e., the change in risk of dying when moving a patient from hospital A to B cannot be inferred from this regression).**"
   ]
  },
  {
   "cell_type": "markdown",
   "id": "eb3fa011-d42f-4416-8c4a-f6716bd22262",
   "metadata": {},
   "source": [
    "First of all, patients who visit Hospital A or B are not randomly assigned. In other words, Hospital B may only take urgent cases, while Hospital A accepts general patients.\n",
    "\n",
    "Secondly, there are other factors that may affect the risk of dying besides the choice of Hospital A or B, such as the level of sickness and age."
   ]
  },
  {
   "cell_type": "markdown",
   "id": "f9dba516-1b9f-4c9b-b01a-b26f19e62874",
   "metadata": {},
   "source": [
    "**(b) Do you think difference in mortality between hospitals are over- or under-estimated? Think about what type of patients go to which type of hospital.**"
   ]
  },
  {
   "cell_type": "markdown",
   "id": "11c3b5d6-1f7f-483a-8f79-6fe873c7f018",
   "metadata": {},
   "source": [
    "The difference in mortality between Hospital A and Hospital B could be either underestimated or overestimated due to omitted variable bias:\n",
    "\n",
    "1. Overestimation: If Hospital B takes more severe and urgent cases but the model does not account for the severity of the illness, then the mortality rate for Hospital B would be higher when compared to Hospital A, thus overestimating the difference between the two hospitals. (Vice Versa)\n",
    "\n",
    "2. Underestimation: If Hospital A has a superior care but the model does not account for quality of care, which can reduce the mortality rate, thus underestimating the difference between the two hospitals. (Vice Versa)"
   ]
  },
  {
   "cell_type": "markdown",
   "id": "0836174f-9886-4984-bea6-efe0e8bca496",
   "metadata": {},
   "source": [
    "**(c) What are potential control variables that you might want to include in the regression, in order to obtain a causal estimate (or at least get closer to a causal estimate)? Run such a regression with suitable controls and interpret the change in the coefficient on the hospital B dummy. Explain why you included the specific set of variables.**"
   ]
  },
  {
   "cell_type": "markdown",
   "id": "bc89a8f3-e5ad-4e90-aaa2-4765d0a00db6",
   "metadata": {},
   "source": [
    "I want include age(startage) and gender(female_dummy) in the regression to obtain (or at least get closer to) a causal estimate, as older individuals or females may have a higher mortality rate. By incorporating these two control variables, we can enhance our understanding of the true effect of the hospital dummy variable on the mortality rate through the regression model."
   ]
  },
  {
   "cell_type": "code",
   "execution_count": 6,
   "id": "e292e7a1-8f79-4e58-894d-248f3c14d9af",
   "metadata": {
    "tags": []
   },
   "outputs": [
    {
     "name": "stdout",
     "output_type": "stream",
     "text": [
      "                            OLS Regression Results                            \n",
      "==============================================================================\n",
      "Dep. Variable:     patient_died_dummy   R-squared:                       0.063\n",
      "Model:                            OLS   Adj. R-squared:                  0.062\n",
      "Method:                 Least Squares   F-statistic:                     147.6\n",
      "Date:                Sat, 10 Feb 2024   Prob (F-statistic):           1.43e-92\n",
      "Time:                        23:48:59   Log-Likelihood:                -1232.8\n",
      "No. Observations:                6611   AIC:                             2474.\n",
      "Df Residuals:                    6607   BIC:                             2501.\n",
      "Df Model:                           3                                         \n",
      "Covariance Type:            nonrobust                                         \n",
      "=======================================================================================\n",
      "                          coef    std err          t      P>|t|      [0.025      0.975]\n",
      "---------------------------------------------------------------------------------------\n",
      "Intercept               0.1165      0.027      4.335      0.000       0.064       0.169\n",
      "C(hospital_id)[T.B]     0.0114      0.007      1.579      0.114      -0.003       0.026\n",
      "startage               -0.0009      0.000     -2.347      0.019      -0.002      -0.000\n",
      "female_dummy            0.1836      0.009     21.015      0.000       0.167       0.201\n",
      "==============================================================================\n",
      "Omnibus:                     3080.506   Durbin-Watson:                   2.037\n",
      "Prob(Omnibus):                  0.000   Jarque-Bera (JB):            12181.285\n",
      "Skew:                           2.411   Prob(JB):                         0.00\n",
      "Kurtosis:                       7.580   Cond. No.                         495.\n",
      "==============================================================================\n",
      "\n",
      "Notes:\n",
      "[1] Standard Errors assume that the covariance matrix of the errors is correctly specified.\n"
     ]
    }
   ],
   "source": [
    "reg_hospital_two_update  = smf.ols(formula = 'patient_died_dummy ~ C(hospital_id)+startage+female_dummy', data = health_update)\n",
    "result = reg_hospital_two_update.fit()\n",
    "print(result.summary())"
   ]
  },
  {
   "cell_type": "markdown",
   "id": "39b6cc8a-11fd-49b3-b397-838419ea2e4f",
   "metadata": {},
   "source": [
    "From the regression results above, the coefficient for Hospital B is 0.0114, which is higher than the initial coefficient of 0.0072. This increase in the coefficient after including age and gender suggests that these control variables are significant factors in the model. Possible explanations for this change include: age and gender acting as confounding variables, potential interaction effects between Hospital B and age or gender, and the presence of omitted variable bias, as noted previously."
   ]
  },
  {
   "cell_type": "markdown",
   "id": "36edd8d9-1017-4a0f-9aec-783c95279706",
   "metadata": {},
   "source": [
    "## Demand estimation\n",
    "\n",
    "**The dataset demand data.csv contains data on sales and prices at a set of ice-cream vendors measured over 52 weeks. All ice-cream at a given store is always priced the same, so there is only one price variable. However, different vendors charge different prices and most vendors vary their prices throughout the year.**"
   ]
  },
  {
   "cell_type": "markdown",
   "id": "248f3a68-5a3d-4b9c-b04a-d63fbc239d49",
   "metadata": {
    "tags": []
   },
   "source": [
    "**Question 1. Load demand data.csv into Python. For vendor 1, run a regression of sales on price and also a regression of sales on price and a summer dummy (make sure your regression selects only the 52 weeks of data for vendor 1). Use the omitted variable bias formula to explain why the price coefficient changes when the summer dummy is also included in the regression.**"
   ]
  },
  {
   "cell_type": "code",
   "execution_count": 7,
   "id": "50937a5a-26ba-4f73-97ab-05ed49c019f4",
   "metadata": {
    "tags": []
   },
   "outputs": [
    {
     "data": {
      "text/html": [
       "<div>\n",
       "<style scoped>\n",
       "    .dataframe tbody tr th:only-of-type {\n",
       "        vertical-align: middle;\n",
       "    }\n",
       "\n",
       "    .dataframe tbody tr th {\n",
       "        vertical-align: top;\n",
       "    }\n",
       "\n",
       "    .dataframe thead th {\n",
       "        text-align: right;\n",
       "    }\n",
       "</style>\n",
       "<table border=\"1\" class=\"dataframe\">\n",
       "  <thead>\n",
       "    <tr style=\"text-align: right;\">\n",
       "      <th></th>\n",
       "      <th>vendor_id</th>\n",
       "      <th>week</th>\n",
       "      <th>summer_dummy</th>\n",
       "      <th>price</th>\n",
       "      <th>sales</th>\n",
       "    </tr>\n",
       "  </thead>\n",
       "  <tbody>\n",
       "    <tr>\n",
       "      <th>0</th>\n",
       "      <td>1</td>\n",
       "      <td>1</td>\n",
       "      <td>0</td>\n",
       "      <td>2.0</td>\n",
       "      <td>8788.7383</td>\n",
       "    </tr>\n",
       "    <tr>\n",
       "      <th>1</th>\n",
       "      <td>1</td>\n",
       "      <td>2</td>\n",
       "      <td>0</td>\n",
       "      <td>3.0</td>\n",
       "      <td>8937.9863</td>\n",
       "    </tr>\n",
       "    <tr>\n",
       "      <th>2</th>\n",
       "      <td>1</td>\n",
       "      <td>3</td>\n",
       "      <td>0</td>\n",
       "      <td>3.0</td>\n",
       "      <td>8740.1777</td>\n",
       "    </tr>\n",
       "    <tr>\n",
       "      <th>3</th>\n",
       "      <td>1</td>\n",
       "      <td>4</td>\n",
       "      <td>0</td>\n",
       "      <td>3.0</td>\n",
       "      <td>8757.1338</td>\n",
       "    </tr>\n",
       "    <tr>\n",
       "      <th>4</th>\n",
       "      <td>1</td>\n",
       "      <td>5</td>\n",
       "      <td>0</td>\n",
       "      <td>3.0</td>\n",
       "      <td>8739.6104</td>\n",
       "    </tr>\n",
       "  </tbody>\n",
       "</table>\n",
       "</div>"
      ],
      "text/plain": [
       "   vendor_id  week  summer_dummy  price      sales\n",
       "0          1     1             0    2.0  8788.7383\n",
       "1          1     2             0    3.0  8937.9863\n",
       "2          1     3             0    3.0  8740.1777\n",
       "3          1     4             0    3.0  8757.1338\n",
       "4          1     5             0    3.0  8739.6104"
      ]
     },
     "execution_count": 7,
     "metadata": {},
     "output_type": "execute_result"
    }
   ],
   "source": [
    "demand = pd.read_csv('demand_data.csv')\n",
    "\n",
    "demand.head()"
   ]
  },
  {
   "cell_type": "code",
   "execution_count": 8,
   "id": "5ab06b1d-8a19-44eb-8b32-2ab57e84da4a",
   "metadata": {
    "tags": []
   },
   "outputs": [
    {
     "data": {
      "text/html": [
       "<div>\n",
       "<style scoped>\n",
       "    .dataframe tbody tr th:only-of-type {\n",
       "        vertical-align: middle;\n",
       "    }\n",
       "\n",
       "    .dataframe tbody tr th {\n",
       "        vertical-align: top;\n",
       "    }\n",
       "\n",
       "    .dataframe thead th {\n",
       "        text-align: right;\n",
       "    }\n",
       "</style>\n",
       "<table border=\"1\" class=\"dataframe\">\n",
       "  <thead>\n",
       "    <tr style=\"text-align: right;\">\n",
       "      <th></th>\n",
       "      <th>vendor_id</th>\n",
       "      <th>week</th>\n",
       "      <th>summer_dummy</th>\n",
       "      <th>price</th>\n",
       "      <th>sales</th>\n",
       "    </tr>\n",
       "  </thead>\n",
       "  <tbody>\n",
       "    <tr>\n",
       "      <th>47</th>\n",
       "      <td>1</td>\n",
       "      <td>48</td>\n",
       "      <td>0</td>\n",
       "      <td>3.0</td>\n",
       "      <td>8653.0254</td>\n",
       "    </tr>\n",
       "    <tr>\n",
       "      <th>48</th>\n",
       "      <td>1</td>\n",
       "      <td>49</td>\n",
       "      <td>0</td>\n",
       "      <td>1.5</td>\n",
       "      <td>8823.1025</td>\n",
       "    </tr>\n",
       "    <tr>\n",
       "      <th>49</th>\n",
       "      <td>1</td>\n",
       "      <td>50</td>\n",
       "      <td>0</td>\n",
       "      <td>2.0</td>\n",
       "      <td>8900.7051</td>\n",
       "    </tr>\n",
       "    <tr>\n",
       "      <th>50</th>\n",
       "      <td>1</td>\n",
       "      <td>51</td>\n",
       "      <td>0</td>\n",
       "      <td>3.0</td>\n",
       "      <td>8743.8818</td>\n",
       "    </tr>\n",
       "    <tr>\n",
       "      <th>51</th>\n",
       "      <td>1</td>\n",
       "      <td>52</td>\n",
       "      <td>0</td>\n",
       "      <td>2.5</td>\n",
       "      <td>8478.7373</td>\n",
       "    </tr>\n",
       "  </tbody>\n",
       "</table>\n",
       "</div>"
      ],
      "text/plain": [
       "    vendor_id  week  summer_dummy  price      sales\n",
       "47          1    48             0    3.0  8653.0254\n",
       "48          1    49             0    1.5  8823.1025\n",
       "49          1    50             0    2.0  8900.7051\n",
       "50          1    51             0    3.0  8743.8818\n",
       "51          1    52             0    2.5  8478.7373"
      ]
     },
     "execution_count": 8,
     "metadata": {},
     "output_type": "execute_result"
    }
   ],
   "source": [
    "demand_ven1 = demand[demand['vendor_id'] == 1]\n",
    "\n",
    "demand_ven1.tail()"
   ]
  },
  {
   "cell_type": "code",
   "execution_count": 9,
   "id": "885b93f5-2891-486e-b10f-8946a02daf2c",
   "metadata": {
    "tags": []
   },
   "outputs": [
    {
     "name": "stdout",
     "output_type": "stream",
     "text": [
      "                            OLS Regression Results                            \n",
      "==============================================================================\n",
      "Dep. Variable:                  sales   R-squared:                       0.006\n",
      "Model:                            OLS   Adj. R-squared:                 -0.013\n",
      "Method:                 Least Squares   F-statistic:                    0.3250\n",
      "Date:                Sat, 10 Feb 2024   Prob (F-statistic):              0.571\n",
      "Time:                        23:48:59   Log-Likelihood:                -360.33\n",
      "No. Observations:                  52   AIC:                             724.7\n",
      "Df Residuals:                      50   BIC:                             728.6\n",
      "Df Model:                           1                                         \n",
      "Covariance Type:            nonrobust                                         \n",
      "==============================================================================\n",
      "                 coef    std err          t      P>|t|      [0.025      0.975]\n",
      "------------------------------------------------------------------------------\n",
      "Intercept   8983.8227    145.437     61.771      0.000    8691.704    9275.941\n",
      "price        -31.2310     54.782     -0.570      0.571    -141.264      78.802\n",
      "==============================================================================\n",
      "Omnibus:                        3.319   Durbin-Watson:                   1.572\n",
      "Prob(Omnibus):                  0.190   Jarque-Bera (JB):                2.367\n",
      "Skew:                           0.346   Prob(JB):                        0.306\n",
      "Kurtosis:                       3.784   Cond. No.                         12.5\n",
      "==============================================================================\n",
      "\n",
      "Notes:\n",
      "[1] Standard Errors assume that the covariance matrix of the errors is correctly specified.\n"
     ]
    }
   ],
   "source": [
    "reg_ven1  = smf.ols(formula = 'sales ~ price', data = demand_ven1)\n",
    "result = reg_ven1.fit()\n",
    "print(result.summary())"
   ]
  },
  {
   "cell_type": "code",
   "execution_count": 10,
   "id": "a07ae552-6eb4-423e-af16-8c2c24dbbb5d",
   "metadata": {
    "tags": []
   },
   "outputs": [
    {
     "name": "stdout",
     "output_type": "stream",
     "text": [
      "                            OLS Regression Results                            \n",
      "==============================================================================\n",
      "Dep. Variable:                  sales   R-squared:                       0.318\n",
      "Model:                            OLS   Adj. R-squared:                  0.290\n",
      "Method:                 Least Squares   F-statistic:                     11.42\n",
      "Date:                Sat, 10 Feb 2024   Prob (F-statistic):           8.49e-05\n",
      "Time:                        23:48:59   Log-Likelihood:                -350.56\n",
      "No. Observations:                  52   AIC:                             707.1\n",
      "Df Residuals:                      49   BIC:                             713.0\n",
      "Df Model:                           2                                         \n",
      "Covariance Type:            nonrobust                                         \n",
      "================================================================================\n",
      "                   coef    std err          t      P>|t|      [0.025      0.975]\n",
      "--------------------------------------------------------------------------------\n",
      "Intercept     9177.5500    128.432     71.458      0.000    8919.455    9435.644\n",
      "price         -141.1887     51.407     -2.746      0.008    -244.496     -37.882\n",
      "summer_dummy   358.5012     75.790      4.730      0.000     206.195     510.807\n",
      "==============================================================================\n",
      "Omnibus:                        0.027   Durbin-Watson:                   1.690\n",
      "Prob(Omnibus):                  0.986   Jarque-Bera (JB):                0.078\n",
      "Skew:                           0.039   Prob(JB):                        0.962\n",
      "Kurtosis:                       2.828   Cond. No.                         13.7\n",
      "==============================================================================\n",
      "\n",
      "Notes:\n",
      "[1] Standard Errors assume that the covariance matrix of the errors is correctly specified.\n"
     ]
    }
   ],
   "source": [
    "reg_ven1_summer  = smf.ols(formula = 'sales ~ price+summer_dummy', data = demand_ven1)\n",
    "result = reg_ven1_summer.fit()\n",
    "print(result.summary())"
   ]
  },
  {
   "cell_type": "code",
   "execution_count": 11,
   "id": "fefe8a0d-9c70-48b7-8e03-a174ff68a9f2",
   "metadata": {
    "tags": []
   },
   "outputs": [
    {
     "data": {
      "text/html": [
       "<div>\n",
       "<style scoped>\n",
       "    .dataframe tbody tr th:only-of-type {\n",
       "        vertical-align: middle;\n",
       "    }\n",
       "\n",
       "    .dataframe tbody tr th {\n",
       "        vertical-align: top;\n",
       "    }\n",
       "\n",
       "    .dataframe thead th {\n",
       "        text-align: right;\n",
       "    }\n",
       "</style>\n",
       "<table border=\"1\" class=\"dataframe\">\n",
       "  <thead>\n",
       "    <tr style=\"text-align: right;\">\n",
       "      <th></th>\n",
       "      <th>vendor_id</th>\n",
       "      <th>week</th>\n",
       "      <th>summer_dummy</th>\n",
       "      <th>price</th>\n",
       "      <th>sales</th>\n",
       "    </tr>\n",
       "  </thead>\n",
       "  <tbody>\n",
       "    <tr>\n",
       "      <th>vendor_id</th>\n",
       "      <td>NaN</td>\n",
       "      <td>NaN</td>\n",
       "      <td>NaN</td>\n",
       "      <td>NaN</td>\n",
       "      <td>NaN</td>\n",
       "    </tr>\n",
       "    <tr>\n",
       "      <th>week</th>\n",
       "      <td>NaN</td>\n",
       "      <td>1.000000</td>\n",
       "      <td>0.057703</td>\n",
       "      <td>0.032114</td>\n",
       "      <td>0.053877</td>\n",
       "    </tr>\n",
       "    <tr>\n",
       "      <th>summer_dummy</th>\n",
       "      <td>NaN</td>\n",
       "      <td>0.057703</td>\n",
       "      <td>1.000000</td>\n",
       "      <td>0.452191</td>\n",
       "      <td>0.461427</td>\n",
       "    </tr>\n",
       "    <tr>\n",
       "      <th>price</th>\n",
       "      <td>NaN</td>\n",
       "      <td>0.032114</td>\n",
       "      <td>0.452191</td>\n",
       "      <td>1.000000</td>\n",
       "      <td>-0.080363</td>\n",
       "    </tr>\n",
       "    <tr>\n",
       "      <th>sales</th>\n",
       "      <td>NaN</td>\n",
       "      <td>0.053877</td>\n",
       "      <td>0.461427</td>\n",
       "      <td>-0.080363</td>\n",
       "      <td>1.000000</td>\n",
       "    </tr>\n",
       "  </tbody>\n",
       "</table>\n",
       "</div>"
      ],
      "text/plain": [
       "              vendor_id      week  summer_dummy     price     sales\n",
       "vendor_id           NaN       NaN           NaN       NaN       NaN\n",
       "week                NaN  1.000000      0.057703  0.032114  0.053877\n",
       "summer_dummy        NaN  0.057703      1.000000  0.452191  0.461427\n",
       "price               NaN  0.032114      0.452191  1.000000 -0.080363\n",
       "sales               NaN  0.053877      0.461427 -0.080363  1.000000"
      ]
     },
     "execution_count": 11,
     "metadata": {},
     "output_type": "execute_result"
    }
   ],
   "source": [
    "demand_ven1.corr()"
   ]
  },
  {
   "cell_type": "markdown",
   "id": "014bafd8-221e-4e13-9615-86846cfb3b0c",
   "metadata": {},
   "source": [
    "According to the formula for omitted variable bias, the variable 'summer_dummy' is positively correlated with 'price' (0.452191) and is also positively correlated with 'sales' (0.461427). This indicates that there is a positive bias, suggesting that the original regression overstates the effect of 'price' on 'sales'. Consequently, the coefficient of 'price' decreases when 'summer_dummy' is included as a control variable in the regression model."
   ]
  },
  {
   "cell_type": "markdown",
   "id": "cf7d0221-2b88-4169-a330-ea5677bb51ac",
   "metadata": {},
   "source": [
    "**Question 2. Repeat the two regressions that you just ran in question 1, but now use data only for vendor 2. In the case of the regression with the summer dummy, you should find that there might be multicollinearity problems. Why does this happen?**"
   ]
  },
  {
   "cell_type": "code",
   "execution_count": 12,
   "id": "d9969e1c-3635-41d5-b25a-08ea94cd7d3c",
   "metadata": {
    "tags": []
   },
   "outputs": [
    {
     "data": {
      "text/html": [
       "<div>\n",
       "<style scoped>\n",
       "    .dataframe tbody tr th:only-of-type {\n",
       "        vertical-align: middle;\n",
       "    }\n",
       "\n",
       "    .dataframe tbody tr th {\n",
       "        vertical-align: top;\n",
       "    }\n",
       "\n",
       "    .dataframe thead th {\n",
       "        text-align: right;\n",
       "    }\n",
       "</style>\n",
       "<table border=\"1\" class=\"dataframe\">\n",
       "  <thead>\n",
       "    <tr style=\"text-align: right;\">\n",
       "      <th></th>\n",
       "      <th>vendor_id</th>\n",
       "      <th>week</th>\n",
       "      <th>summer_dummy</th>\n",
       "      <th>price</th>\n",
       "      <th>sales</th>\n",
       "    </tr>\n",
       "  </thead>\n",
       "  <tbody>\n",
       "    <tr>\n",
       "      <th>99</th>\n",
       "      <td>2</td>\n",
       "      <td>48</td>\n",
       "      <td>0</td>\n",
       "      <td>2.5</td>\n",
       "      <td>8845.7813</td>\n",
       "    </tr>\n",
       "    <tr>\n",
       "      <th>100</th>\n",
       "      <td>2</td>\n",
       "      <td>49</td>\n",
       "      <td>0</td>\n",
       "      <td>2.5</td>\n",
       "      <td>9492.9307</td>\n",
       "    </tr>\n",
       "    <tr>\n",
       "      <th>101</th>\n",
       "      <td>2</td>\n",
       "      <td>50</td>\n",
       "      <td>0</td>\n",
       "      <td>2.5</td>\n",
       "      <td>9357.5439</td>\n",
       "    </tr>\n",
       "    <tr>\n",
       "      <th>102</th>\n",
       "      <td>2</td>\n",
       "      <td>51</td>\n",
       "      <td>0</td>\n",
       "      <td>2.5</td>\n",
       "      <td>8901.5459</td>\n",
       "    </tr>\n",
       "    <tr>\n",
       "      <th>103</th>\n",
       "      <td>2</td>\n",
       "      <td>52</td>\n",
       "      <td>0</td>\n",
       "      <td>2.5</td>\n",
       "      <td>9063.8477</td>\n",
       "    </tr>\n",
       "  </tbody>\n",
       "</table>\n",
       "</div>"
      ],
      "text/plain": [
       "     vendor_id  week  summer_dummy  price      sales\n",
       "99           2    48             0    2.5  8845.7813\n",
       "100          2    49             0    2.5  9492.9307\n",
       "101          2    50             0    2.5  9357.5439\n",
       "102          2    51             0    2.5  8901.5459\n",
       "103          2    52             0    2.5  9063.8477"
      ]
     },
     "execution_count": 12,
     "metadata": {},
     "output_type": "execute_result"
    }
   ],
   "source": [
    "demand_ven2 = demand[demand['vendor_id'] == 2]\n",
    "\n",
    "demand_ven2.tail()"
   ]
  },
  {
   "cell_type": "code",
   "execution_count": 13,
   "id": "c7d2b725-6704-4722-a723-64237c7da3c1",
   "metadata": {
    "tags": []
   },
   "outputs": [
    {
     "name": "stdout",
     "output_type": "stream",
     "text": [
      "                            OLS Regression Results                            \n",
      "==============================================================================\n",
      "Dep. Variable:                  sales   R-squared:                       0.133\n",
      "Model:                            OLS   Adj. R-squared:                  0.116\n",
      "Method:                 Least Squares   F-statistic:                     7.684\n",
      "Date:                Sat, 10 Feb 2024   Prob (F-statistic):            0.00781\n",
      "Time:                        23:48:59   Log-Likelihood:                -359.10\n",
      "No. Observations:                  52   AIC:                             722.2\n",
      "Df Residuals:                      50   BIC:                             726.1\n",
      "Df Model:                           1                                         \n",
      "Covariance Type:            nonrobust                                         \n",
      "==============================================================================\n",
      "                 coef    std err          t      P>|t|      [0.025      0.975]\n",
      "------------------------------------------------------------------------------\n",
      "Intercept   8411.1748    219.545     38.312      0.000    7970.205    8852.145\n",
      "price        218.6028     78.863      2.772      0.008      60.202     377.004\n",
      "==============================================================================\n",
      "Omnibus:                        1.154   Durbin-Watson:                   2.369\n",
      "Prob(Omnibus):                  0.562   Jarque-Bera (JB):                0.467\n",
      "Skew:                           0.114   Prob(JB):                        0.792\n",
      "Kurtosis:                       3.404   Cond. No.                         20.2\n",
      "==============================================================================\n",
      "\n",
      "Notes:\n",
      "[1] Standard Errors assume that the covariance matrix of the errors is correctly specified.\n"
     ]
    }
   ],
   "source": [
    "reg_ven2  = smf.ols(formula = 'sales ~ price', data = demand_ven2)\n",
    "result = reg_ven2.fit()\n",
    "print(result.summary())"
   ]
  },
  {
   "cell_type": "code",
   "execution_count": 14,
   "id": "75f160c7-47da-48ee-8a26-88702bbc39c6",
   "metadata": {
    "tags": []
   },
   "outputs": [
    {
     "name": "stdout",
     "output_type": "stream",
     "text": [
      "                            OLS Regression Results                            \n",
      "==============================================================================\n",
      "Dep. Variable:                  sales   R-squared:                       0.133\n",
      "Model:                            OLS   Adj. R-squared:                  0.116\n",
      "Method:                 Least Squares   F-statistic:                     7.684\n",
      "Date:                Sat, 10 Feb 2024   Prob (F-statistic):            0.00781\n",
      "Time:                        23:48:59   Log-Likelihood:                -359.10\n",
      "No. Observations:                  52   AIC:                             722.2\n",
      "Df Residuals:                      50   BIC:                             726.1\n",
      "Df Model:                           1                                         \n",
      "Covariance Type:            nonrobust                                         \n",
      "================================================================================\n",
      "                   coef    std err          t      P>|t|      [0.025      0.975]\n",
      "--------------------------------------------------------------------------------\n",
      "Intercept     2105.3159     29.848     70.534      0.000    2045.364    2165.268\n",
      "price         2740.9463     10.951    250.283      0.000    2718.950    2762.943\n",
      "summer_dummy -2522.3436     75.986    -33.195      0.000   -2674.966   -2369.721\n",
      "==============================================================================\n",
      "Omnibus:                        1.154   Durbin-Watson:                   2.369\n",
      "Prob(Omnibus):                  0.562   Jarque-Bera (JB):                0.467\n",
      "Skew:                           0.114   Prob(JB):                        0.792\n",
      "Kurtosis:                       3.404   Cond. No.                     7.87e+15\n",
      "==============================================================================\n",
      "\n",
      "Notes:\n",
      "[1] Standard Errors assume that the covariance matrix of the errors is correctly specified.\n",
      "[2] The smallest eigenvalue is 7.4e-30. This might indicate that there are\n",
      "strong multicollinearity problems or that the design matrix is singular.\n"
     ]
    }
   ],
   "source": [
    "reg_ven2_summer  = smf.ols(formula = 'sales ~ price+summer_dummy', data = demand_ven2)\n",
    "result = reg_ven2_summer.fit()\n",
    "print(result.summary())"
   ]
  },
  {
   "cell_type": "code",
   "execution_count": 15,
   "id": "2ab64d0c-9787-4cd1-9c44-26abc1f30b4c",
   "metadata": {
    "tags": []
   },
   "outputs": [
    {
     "data": {
      "text/html": [
       "<div>\n",
       "<style scoped>\n",
       "    .dataframe tbody tr th:only-of-type {\n",
       "        vertical-align: middle;\n",
       "    }\n",
       "\n",
       "    .dataframe tbody tr th {\n",
       "        vertical-align: top;\n",
       "    }\n",
       "\n",
       "    .dataframe thead th {\n",
       "        text-align: right;\n",
       "    }\n",
       "</style>\n",
       "<table border=\"1\" class=\"dataframe\">\n",
       "  <thead>\n",
       "    <tr style=\"text-align: right;\">\n",
       "      <th></th>\n",
       "      <th>vendor_id</th>\n",
       "      <th>week</th>\n",
       "      <th>summer_dummy</th>\n",
       "      <th>price</th>\n",
       "      <th>sales</th>\n",
       "    </tr>\n",
       "  </thead>\n",
       "  <tbody>\n",
       "    <tr>\n",
       "      <th>vendor_id</th>\n",
       "      <td>NaN</td>\n",
       "      <td>NaN</td>\n",
       "      <td>NaN</td>\n",
       "      <td>NaN</td>\n",
       "      <td>NaN</td>\n",
       "    </tr>\n",
       "    <tr>\n",
       "      <th>week</th>\n",
       "      <td>NaN</td>\n",
       "      <td>1.000000</td>\n",
       "      <td>0.057703</td>\n",
       "      <td>0.057703</td>\n",
       "      <td>0.152865</td>\n",
       "    </tr>\n",
       "    <tr>\n",
       "      <th>summer_dummy</th>\n",
       "      <td>NaN</td>\n",
       "      <td>0.057703</td>\n",
       "      <td>1.000000</td>\n",
       "      <td>1.000000</td>\n",
       "      <td>0.364969</td>\n",
       "    </tr>\n",
       "    <tr>\n",
       "      <th>price</th>\n",
       "      <td>NaN</td>\n",
       "      <td>0.057703</td>\n",
       "      <td>1.000000</td>\n",
       "      <td>1.000000</td>\n",
       "      <td>0.364969</td>\n",
       "    </tr>\n",
       "    <tr>\n",
       "      <th>sales</th>\n",
       "      <td>NaN</td>\n",
       "      <td>0.152865</td>\n",
       "      <td>0.364969</td>\n",
       "      <td>0.364969</td>\n",
       "      <td>1.000000</td>\n",
       "    </tr>\n",
       "  </tbody>\n",
       "</table>\n",
       "</div>"
      ],
      "text/plain": [
       "              vendor_id      week  summer_dummy     price     sales\n",
       "vendor_id           NaN       NaN           NaN       NaN       NaN\n",
       "week                NaN  1.000000      0.057703  0.057703  0.152865\n",
       "summer_dummy        NaN  0.057703      1.000000  1.000000  0.364969\n",
       "price               NaN  0.057703      1.000000  1.000000  0.364969\n",
       "sales               NaN  0.152865      0.364969  0.364969  1.000000"
      ]
     },
     "execution_count": 15,
     "metadata": {},
     "output_type": "execute_result"
    }
   ],
   "source": [
    "demand_ven2.corr()"
   ]
  },
  {
   "cell_type": "code",
   "execution_count": 16,
   "id": "330b2722-6110-4034-9e42-f760b0d1e510",
   "metadata": {
    "tags": []
   },
   "outputs": [
    {
     "data": {
      "text/plain": [
       "price\n",
       "2.5    0.0\n",
       "3.5    1.0\n",
       "Name: summer_dummy, dtype: float64"
      ]
     },
     "execution_count": 16,
     "metadata": {},
     "output_type": "execute_result"
    }
   ],
   "source": [
    "df = demand_ven2.groupby('price')['summer_dummy'].mean()\n",
    "\n",
    "df"
   ]
  },
  {
   "cell_type": "markdown",
   "id": "53c1e093-68df-4223-a96e-6055d2607f61",
   "metadata": {},
   "source": [
    "According to the correlation data, 'price' and 'summer_dummy' are perfectly correlated. This is because the prices from vendor 2 change based on the season, specifically whether or not it is summer. As a result, 'price' can be exactly predicted by 'summer_dummy', leading to multicollinearity in the model."
   ]
  },
  {
   "cell_type": "markdown",
   "id": "7484dd2d-0afe-445a-ae7b-f0d02e7c6320",
   "metadata": {},
   "source": [
    "**Question 3. Suppose that one of the vendors did not systematically charge higher or lower prices in summer. If you were to repeat the analysis you just did for vendors 1 and 2, what would you expect to happen to the price coefficient estimate and its precision in the two regressions with and without the summer dummy?**"
   ]
  },
  {
   "cell_type": "markdown",
   "id": "53e476de-b567-4ad9-b564-b38b99f880f7",
   "metadata": {},
   "source": [
    "If a vendor did not systematically charge higher or lower prices in the summer, indicated by a correlation of zero between 'price' and 'summer_dummy' (corr(price, summer_dummy) = 0) and no omitted variable bias, then I would expect the estimate of the price coefficient to remain similar or unchanged by including 'summer_dummy' in the regression. However, the precision of the estimate would increase."
   ]
  },
  {
   "cell_type": "code",
   "execution_count": null,
   "id": "2d1e675b-2a4a-45ba-856a-19ecca42951b",
   "metadata": {},
   "outputs": [],
   "source": []
  }
 ],
 "metadata": {
  "kernelspec": {
   "display_name": "Python 3 (ipykernel)",
   "language": "python",
   "name": "python3"
  },
  "language_info": {
   "codemirror_mode": {
    "name": "ipython",
    "version": 3
   },
   "file_extension": ".py",
   "mimetype": "text/x-python",
   "name": "python",
   "nbconvert_exporter": "python",
   "pygments_lexer": "ipython3",
   "version": "3.10.12"
  }
 },
 "nbformat": 4,
 "nbformat_minor": 5
}
